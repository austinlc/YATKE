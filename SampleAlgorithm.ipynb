{
 "cells": [
  {
   "cell_type": "markdown",
   "metadata": {},
   "source": [
    "# Now I've gotta make sure that my sampling scheme for A, TKE, and Z is what I want. \n",
    "### It's way easier to do this in python, verify, and translate to C++ so that's what I'm gonna do"
   ]
  },
  {
   "cell_type": "code",
   "execution_count": 1,
   "metadata": {
    "collapsed": true
   },
   "outputs": [],
   "source": [
    "import numpy as np\n",
    "import scipy as sp\n",
    "import scipy.optimize as opt\n",
    "import os\n",
    "from statistics import *\n",
    "from datetime import datetime\n",
    "import matplotlib.pyplot as plt\n",
    "import matplotlib.mlab as mlab\n",
    "import sympy as sym\n",
    "from sympy.interactive import printing\n",
    "printing.init_printing(use_latex = 'mathjax')\n",
    "from IPython.display import display, Math, Latex\n",
    "from mpl_toolkits.axes_grid1 import make_axes_locatable\n",
    "import matplotlib.ticker as ticker\n",
    "from matplotlib.pyplot import cm\n",
    "import pylab as pl\n",
    "from scipy.stats import chisquare\n",
    "import random\n",
    "%matplotlib inline"
   ]
  },
  {
   "cell_type": "code",
   "execution_count": 2,
   "metadata": {
    "collapsed": true
   },
   "outputs": [],
   "source": [
    "import json\n",
    "\n",
    "#-- Read JSON-formatted data file\n",
    "def readJSONDataFile (filename):\n",
    "    \n",
    "    with open(filename) as jsonFile:\n",
    "        jsonData = json.load(jsonFile)\n",
    "        \n",
    "    exp = list()\n",
    "    c=0\n",
    "    for item in jsonData.get(\"entries\"):\n",
    "        exp.append(item)\n",
    "        c=c+1\n",
    "        \n",
    "    return exp\n",
    "\n",
    "#-- Plot experimental data sets corresponding to a particular quantity\n",
    "def plotExperimentalData (quantity, **keyword_parameters):\n",
    "    if ('format' in keyword_parameters):\n",
    "        fmtplot = keyword_parameters['format']\n",
    "    else:\n",
    "        fmtplot = 'ko--'\n",
    "\n",
    "    checkAuthor = False\n",
    "    if ('author' in keyword_parameters):\n",
    "        author = keyword_parameters['author']\n",
    "        checkAuthor = True\n",
    "    for exp in experiments:\n",
    "        if (exp['quantity']==quantity):\n",
    "            if (checkAuthor):\n",
    "                if (author not in exp['authors']):\n",
    "                    continue\n",
    "            data = np.asarray(exp['data'])\n",
    "            if ('renorm' in exp):\n",
    "                coef = exp['renorm']\n",
    "            else:\n",
    "                coef = 1.0\n",
    "            x = data[:,0]\n",
    "            y = data[:,1]\n",
    "            if ('label' in keyword_parameters):\n",
    "                labelplot = keyword_parameters['label']\n",
    "            else:\n",
    "                labelplot = exp['label']\n",
    "            plt.plot(x,y*coef,fmtplot,alpha=0.5,label=labelplot)\n",
    "\n",
    "#-- Lists all experiments read in \n",
    "def listExperimentalData (experiments):\n",
    "    for exp in experiments:\n",
    "        print (\"{0:10s} |  {1}, {2}\".format(exp['quantity'], exp['authors'], exp['year']))\n",
    "        "
   ]
  },
  {
   "cell_type": "code",
   "execution_count": 3,
   "metadata": {
    "collapsed": true
   },
   "outputs": [],
   "source": [
    "EXPERIMENTALDATAFILE = \"/home/austinlc/Documents/FromPTalou/expdata-98252sf.js\""
   ]
  },
  {
   "cell_type": "code",
   "execution_count": 4,
   "metadata": {},
   "outputs": [
    {
     "name": "stdout",
     "output_type": "stream",
     "text": [
      "YA                   |  F.-J. Hambsch, S. Oberstedt, P. Siegler, J. van Arle, R. Vogt, 1997\n",
      "YA                   |  C. Budtz-Joergensen and H.-H. Knitter, 1988\n",
      "YA                   |  A. Gook, F.-J. Hambsch, M. Vidali, 2014\n",
      "YA                   |  Sh. Zeynalov, F.-J.Hambsch, et al., 2011\n",
      "YZ                   |  Wahl, 1987\n",
      "TKEA                 |  Gook, 2014\n",
      "SIGTKEA              |  A. Gook et al., 2014\n",
      "Pnu                  |  P. Santi and M. Miller, 2008\n",
      "PFNS                 |  W. Mannhart, 1989\n",
      "PFNS2                |  W. Mannhart, 1989\n",
      "nubarA               |  Vorobyev et al., 2004\n",
      "EcmA                 |  Budtz-Jorgensen and Knitter, 1988\n",
      "nubarTKE             |  A. Gook, F.-J. Hambsch, M. Vidali, 2014\n",
      "nubarTKE_A110        |  A. Gook, F.-J. Hambsch, M. Vidali, 2014\n",
      "nubarTKE_A122        |  A. Gook, F.-J. Hambsch, M. Vidali, 2014\n",
      "nubarTKE_A130        |  A. Gook, F.-J. Hambsch, M. Vidali, 2014\n",
      "nubarTKE_A142        |  A. Gook, F.-J. Hambsch, M. Vidali, 2014\n",
      "nLF                  |  A. Skarsvag and K. Bergheim, 1963\n",
      "nLF                  |  H. R. Bowman, S. G. Thompson, J. C. D. Milton, and W. J. Swiatecki, 1962\n",
      "nLF-A122             |  A. Gook, F.-J. Hambsch, M. Vidali, 2014\n",
      "nLF-A96              |  A. Gook, F.-J. Hambsch, M. Vidali, 2014\n",
      "nLF-A107             |  A. Gook, F.-J. Hambsch, M. Vidali, 2014\n",
      "nLF-A116             |  A. Gook, F.-J. Hambsch, M. Vidali, 2014\n",
      "nn                   |  Pozzi et al., 2014\n",
      "Pnug                 |  A. Oberstedt, R. Billnert, F.-J. Hambsch, S. Oberstedt, et al., 2015\n",
      "PFGS1                |  R. Billnert, F.-J. Hambsch, A. Oberstedt, and S. Oberstedt, 2013\n",
      "PFGS2                |  R. Billnert, F.-J. Hambsch, A. Oberstedt, and S. Oberstedt, 2013\n",
      "multiplicityRatio    |  T. Wang et al., 2016\n",
      "PFGSvsA              |  A.Hotzel, P.Thirolf, Ch.Ender, D.Schwalm, M.Mutterer, P.Singer, M.Klemens, J.P.Theobald, M.Hesse, F.Goennenwein, H.v.d.Ploeg, 1996\n"
     ]
    }
   ],
   "source": [
    "experiments = readJSONDataFile (EXPERIMENTALDATAFILE)\n",
    "\n",
    "for exp in experiments:\n",
    "    print (\"{0:20s} |  {1}, {2}\".format(exp['quantity'], exp['authors'], exp['year']))"
   ]
  },
  {
   "cell_type": "code",
   "execution_count": 5,
   "metadata": {},
   "outputs": [
    {
     "name": "stdout",
     "output_type": "stream",
     "text": [
      "Matplotbib Version:  2.0.2\n"
     ]
    }
   ],
   "source": [
    "### rcParams are the default parameters for matplotlib\n",
    "import matplotlib as mpl\n",
    "\n",
    "print (\"Matplotbib Version: \", mpl.__version__)\n",
    "\n",
    "mpl.rcParams['font.size'] = 18\n",
    "mpl.rcParams['font.family'] = 'Helvetica', 'serif'\n",
    "#mpl.rcParams['font.color'] = 'darkred'\n",
    "mpl.rcParams['font.weight'] = 'normal'\n",
    "\n",
    "mpl.rcParams['axes.labelsize'] = 18.\n",
    "mpl.rcParams['xtick.labelsize'] = 18.\n",
    "mpl.rcParams['ytick.labelsize'] = 18.\n",
    "mpl.rcParams['lines.linewidth'] = 2.\n",
    "\n",
    "font = {'family' : 'serif',\n",
    "        'color'  : 'darkred',\n",
    "        'weight' : 'normal',\n",
    "        'size'   : 18,\n",
    "        }\n",
    "\n",
    "mpl.rcParams['xtick.major.pad']='10'\n",
    "mpl.rcParams['ytick.major.pad']='10'\n",
    "\n",
    "mpl.rcParams['image.cmap'] = 'inferno'"
   ]
  },
  {
   "cell_type": "code",
   "execution_count": 6,
   "metadata": {},
   "outputs": [
    {
     "name": "stdout",
     "output_type": "stream",
     "text": [
      "0.013754959340825731 0.1734091083059585 0.8128359323532158\n"
     ]
    }
   ],
   "source": [
    "# Here are my effin sweet optimized parameters, see the MinimizeChi2Cf252.ipynb\n",
    "\n",
    "dminl, dmin1, dmin2 = 1.67133975e+01, 1.08924571e+01,   1.44946848e+01\n",
    "dmaxl, dmax1, dmax2 = 2.04274353e+01, 1.73227450e+01,   1.82042691e+01\n",
    "ddecl, ddec1, ddec2 = 1.65676002e-01, 1.34703577e-01,   4.46051597e-01\n",
    "Abarl, Abar1, Abar2 = 1.27530330e+02, 1.36328441e+02, 1.44542941e+02\n",
    "sigAl, sigA1, sigA2 = 1.82257350e+01, 3.69590546e+00, 6.11049848e+00\n",
    "hl, h1, h2 =          12303.67185349, 155112.69151267, 727073.51105839\n",
    "\n",
    "# since we're not doing h's anymore, lemme take those and make them w's\n",
    "wl = hl/(hl+h1+h2)\n",
    "w1 = h1/(hl+h1+h2)\n",
    "w2 = h2/(hl+h1+h2)\n",
    "\n",
    "print(wl,w1,w2)"
   ]
  },
  {
   "cell_type": "code",
   "execution_count": 7,
   "metadata": {},
   "outputs": [
    {
     "data": {
      "text/plain": [
       "<matplotlib.text.Text at 0x7f402f514358>"
      ]
     },
     "execution_count": 7,
     "metadata": {},
     "output_type": "execute_result"
    },
    {
     "data": {
      "image/png": "[encoded data removed]",
      "text/plain": [
       "<matplotlib.figure.Figure at 0x7f4031e15e48>"
      ]
     },
     "metadata": {},
     "output_type": "display_data"
    }
   ],
   "source": [
    "# okay now let's show the Yield of A, how it should be analytically and then come up with an algorithm\n",
    "# to sample the gaussians and reproduce this yield\n",
    "\n",
    "A = np.linspace(0,200,201)\n",
    "A_cn = 252.\n",
    "Z_cn = 98.\n",
    "YA_sl = np.zeros(len(A)) \n",
    "YA_s1 = np.zeros(len(A)) \n",
    "YA_s2 = np.zeros(len(A))\n",
    "YA = np.zeros(len(A))\n",
    "\n",
    "for i in range(len(A)):\n",
    "    YA_sl[i] = wl/np.sqrt(8*np.pi*sigAl**2) * \\\n",
    "                            (np.exp(-(A[i]-Abarl)**2/(2*sigAl**2)) + \\\n",
    "                             np.exp(-(A[i]-A_cn+Abarl)**2/(2*sigAl**2)))\n",
    "        \n",
    "    YA_s1[i] = w1/np.sqrt(8*np.pi*sigA1**2) * \\\n",
    "                        (np.exp(-(A[i]-Abar1)**2/(2*sigA1**2)) + \\\n",
    "                         np.exp(-(A[i]-A_cn+Abar1)**2/(2*sigA1**2)))\n",
    "            \n",
    "    YA_s2[i] = w2/np.sqrt(8*np.pi*sigA2**2) * \\\n",
    "                    (np.exp(-(A[i]-Abar2)**2/(2*sigA2**2)) + \\\n",
    "                     np.exp(-(A[i]-A_cn+Abar2)**2/(2*sigA2**2)))\n",
    "        \n",
    "    YA[i]    = YA_sl[i] + YA_s1[i] + YA_s2[i]\n",
    "    \n",
    "# so this is what the real thing should look like\n",
    "\n",
    "fig, axes = pl.subplots(1, 1, figsize=(10, 8))\n",
    "\n",
    "plt.semilogy(A, YA_sl)\n",
    "plt.semilogy(A, YA_s1)\n",
    "plt.semilogy(A, YA_s2)\n",
    "plt.semilogy(A, YA)\n",
    "plt.ylim(1e-5, 1e-1)\n",
    "plt.xlabel('A')\n",
    "plt.ylabel('Probability')"
   ]
  },
  {
   "cell_type": "code",
   "execution_count": 8,
   "metadata": {
    "collapsed": true
   },
   "outputs": [],
   "source": [
    "# similarly for TKE\n",
    "TKE = np.linspace(100,299,200)\n",
    "YTKE_sl = np.zeros(len(TKE)) \n",
    "YTKE_s1 = np.zeros(len(TKE)) \n",
    "YTKE_s2 = np.zeros(len(TKE))\n",
    "YTKE    = np.zeros(len(TKE))\n",
    "\n",
    "for i in range(len(TKE)):\n",
    "    YTKE_sl\n",
    "\n"
   ]
  },
  {
   "cell_type": "code",
   "execution_count": 9,
   "metadata": {},
   "outputs": [
    {
     "name": "stdout",
     "output_type": "stream",
     "text": [
      "[ 100.  101.  102.  103.  104.  105.  106.  107.  108.  109.  110.  111.\n",
      "  112.  113.  114.  115.  116.  117.  118.  119.  120.  121.  122.  123.\n",
      "  124.  125.  126.  127.  128.  129.  130.  131.  132.  133.  134.  135.\n",
      "  136.  137.  138.  139.  140.  141.  142.  143.  144.  145.  146.  147.\n",
      "  148.  149.  150.  151.  152.  153.  154.  155.  156.  157.  158.  159.\n",
      "  160.  161.  162.  163.  164.  165.  166.  167.  168.  169.  170.  171.\n",
      "  172.  173.  174.  175.  176.  177.  178.  179.  180.  181.  182.  183.\n",
      "  184.  185.  186.  187.  188.  189.  190.  191.  192.  193.  194.  195.\n",
      "  196.  197.  198.  199.  200.  201.  202.  203.  204.  205.  206.  207.\n",
      "  208.  209.  210.  211.  212.  213.  214.  215.  216.  217.  218.  219.\n",
      "  220.  221.  222.  223.  224.  225.  226.  227.  228.  229.  230.  231.\n",
      "  232.  233.  234.  235.  236.  237.  238.  239.  240.  241.  242.  243.\n",
      "  244.  245.  246.  247.  248.  249.  250.  251.  252.  253.  254.  255.\n",
      "  256.  257.  258.  259.  260.  261.  262.  263.  264.  265.  266.  267.\n",
      "  268.  269.  270.  271.  272.  273.  274.  275.  276.  277.  278.  279.\n",
      "  280.  281.  282.  283.  284.  285.  286.  287.  288.  289.  290.  291.\n",
      "  292.  293.  294.  295.  296.  297.  298.  299.]\n"
     ]
    }
   ],
   "source": [
    "print(TKE)"
   ]
  },
  {
   "cell_type": "code",
   "execution_count": 10,
   "metadata": {
    "collapsed": true
   },
   "outputs": [],
   "source": [
    "# put into 2ists and \n",
    "\n",
    "# REARRANGE order: S2, S1, SL****\n",
    "# ********************************\n",
    "w = [w2, w1, wl]\n",
    "dmin = [dmin2, dmin1, dminl]\n",
    "dmax = [dmax2, dmax1, dmaxl]\n",
    "ddec = [ddec2, ddec1, ddecl]\n",
    "Abar = [Abar2, Abar1, Abarl]\n",
    "sigA = [sigA2, sigA1, sigAl]"
   ]
  },
  {
   "cell_type": "code",
   "execution_count": 11,
   "metadata": {},
   "outputs": [
    {
     "name": "stdout",
     "output_type": "stream",
     "text": [
      "[6.11049848, 3.69590546, 18.225735]\n"
     ]
    }
   ],
   "source": [
    "print(sigA)"
   ]
  },
  {
   "cell_type": "code",
   "execution_count": 12,
   "metadata": {
    "collapsed": true
   },
   "outputs": [],
   "source": [
    "# let's get a sample scheme cooking for A\n",
    "nhistories = 1000000\n",
    "A_sampled = []\n",
    "TKE_sampled = []\n",
    "\n",
    "\n",
    "\n",
    "for i in range(nhistories):\n",
    "    \n",
    "    # 1) we gotta get a mode\n",
    "    r1  = random.random()\n",
    "    \n",
    "    # sample probability mass dist\n",
    "    wtot = 0.\n",
    "    \n",
    "    for i in range(3):\n",
    "        wtot += w[i]\n",
    "        if (r1 <= wtot):\n",
    "            i_mode = i\n",
    "            break\n",
    "            \n",
    "    # 2) let's sample the A based on the mode selected\n",
    "    \n",
    "    # sample mode based on gaussian\n",
    "    r2 = random.random()\n",
    "    r3 = random.random()\n",
    "    A_s = Abar[i_mode] + sigA[i_mode] *np.sqrt(-2*np.log(r2)) * np.cos(2 * np.pi * r3)\n",
    "    \n",
    "    # now with given A, we can sample the TKE\n",
    "    \n",
    "    T = (Z_cn / A_cn)\n",
    "    \n",
    "    #symmetry\n",
    "    if(random.random() <= 0.5):\n",
    "        A_sampled.append(A_s)\n",
    "    else:\n",
    "        A_sampled.append(A_cn  - A_s)\n"
   ]
  },
  {
   "cell_type": "code",
   "execution_count": 13,
   "metadata": {},
   "outputs": [
    {
     "data": {
      "text/plain": [
       "[<matplotlib.lines.Line2D at 0x7f402ce3e208>]"
      ]
     },
     "execution_count": 13,
     "metadata": {},
     "output_type": "execute_result"
    },
    {
     "data": {
      "image/png": "[encoded data removed]",
      "text/plain": [
       "<matplotlib.figure.Figure at 0x7f402ce08e10>"
      ]
     },
     "metadata": {},
     "output_type": "display_data"
    }
   ],
   "source": [
    "plt.semilogy(A, YA)\n",
    "A_bins = np.linspace(-0.5, 200.5, 202)\n",
    "A_binned = np.histogram(A_sampled, bins = A_bins, normed=True)\n",
    "plt.semilogy(A,A_binned[0])"
   ]
  },
  {
   "cell_type": "code",
   "execution_count": 14,
   "metadata": {
    "collapsed": true
   },
   "outputs": [],
   "source": [
    "def TKEA(A, i_mode):\n",
    "    TKE = np.linspace(100,299,200)\n",
    "    e2 = 1.4399643929 # MeV fm\n",
    "    # return a normalized probability mass function\n",
    "    TKEA = np.zeros(len(TKE))\n",
    "    for i in range(len(TKE)):\n",
    "        T = (Z_cn/A_cn)**2 *(A_cn - A)*A*e2/TKE[i] - dmin[i_mode]\n",
    "        # T cannot be <= 0 or overflow happens\n",
    "        if (T > 0.):\n",
    "            TKEA[i] = (200./TKE[i])**2 * np.exp(2.*(dmax[i_mode] -dmin[i_mode]) / ddec[i_mode] - \n",
    "                                         T/ddec[i_mode] - (dmax[i_mode] - dmin[i_mode])**2 /T/ddec[i_mode])\n",
    "    total = sum(TKEA)\n",
    "    if (total == 0.0): total = 0.01\n",
    "    TKEA = np.asarray([float(i)/total for i in TKEA])\n",
    "    return TKEA"
   ]
  },
  {
   "cell_type": "code",
   "execution_count": 15,
   "metadata": {
    "collapsed": true
   },
   "outputs": [],
   "source": [
    "TKEA_arr = np.zeros((3, len(A), len(TKE)))\n",
    "for i in range(3):\n",
    "    for j in range(len(A)):\n",
    "        TKEA_arr[i,j,:] = TKEA(A[j], i)"
   ]
  },
  {
   "cell_type": "code",
   "execution_count": 16,
   "metadata": {
    "collapsed": true
   },
   "outputs": [],
   "source": [
    "Amin = int(min(A))\n",
    "TKEmin = int(min(TKE))\n",
    "\n",
    "def sampleTKE(A, i_mode):\n",
    "    \n",
    "    r4 = random.random()\n",
    "    i_A = int(A - Amin)\n",
    "\n",
    "        # sample probability mass dist\n",
    "    KEtot = 0.\n",
    "    \n",
    "    for i_TKE in range(len(TKE)):\n",
    "        KEtot += TKEA_arr[i_mode, i_A, i_TKE]\n",
    "        if (r4 <= KEtot):\n",
    "            return i_TKE + TKEmin\n"
   ]
  },
  {
   "cell_type": "code",
   "execution_count": 17,
   "metadata": {},
   "outputs": [
    {
     "name": "stdout",
     "output_type": "stream",
     "text": [
      "100\n",
      "22.0\n",
      "[ 0.  0.  0.  0.  0.  0.  0.  0.  0.  0.  0.  0.  0.  0.  0.  0.  0.  0.\n",
      "  0.  0.  0.  0.  0.  0.  0.  0.  0.  0.  0.  0.  0.  0.  0.  0.  0.  0.\n",
      "  0.  0.  0.  0.  0.  0.  0.  0.  0.  0.  0.  0.  0.  0.  0.  0.  0.  0.\n",
      "  0.  0.  0.  0.  0.  0.  0.  0.  0.  0.  0.  0.  0.  0.  0.  0.  0.  0.\n",
      "  0.  0.  0.  0.  0.  0.  0.  0.  0.  0.  0.  0.  0.  0.  0.  0.  0.  0.\n",
      "  0.  0.  0.  0.  0.  0.  0.  0.  0.  0.  0.  0.  0.  0.  0.  0.  0.  0.\n",
      "  0.  0.  0.  0.  0.  0.  0.  0.  0.  0.  0.  0.  0.  0.  0.  0.  0.  0.\n",
      "  0.  0.  0.  0.  0.  0.  0.  0.  0.  0.  0.  0.  0.  0.  0.  0.  0.  0.\n",
      "  0.  0.  0.  0.  0.  0.  0.  0.  0.  0.  0.  0.  0.  0.  0.  0.  0.  0.\n",
      "  0.  0.  0.  0.  0.  0.  0.  0.  0.  0.  0.  0.  0.  0.  0.  0.  0.  0.\n",
      "  0.  0.  0.  0.  0.  0.  0.  0.  0.  0.  0.  0.  0.  0.  0.  0.  0.  0.\n",
      "  0.  0.]\n"
     ]
    }
   ],
   "source": [
    "print(TKEmin)\n",
    "print(A[22])\n",
    "print(TKEA_arr[1, 22, :])"
   ]
  },
  {
   "cell_type": "code",
   "execution_count": 18,
   "metadata": {},
   "outputs": [
    {
     "data": {
      "text/latex": [
       "$$\\left ( 1e-07, \\quad 0.1\\right )$$"
      ],
      "text/plain": [
       "(1e-07, 0.1)"
      ]
     },
     "execution_count": 18,
     "metadata": {},
     "output_type": "execute_result"
    },
    {
     "data": {
      "image/png": "[encoded data removed]",
      "text/plain": [
       "<matplotlib.figure.Figure at 0x7f402b206eb8>"
      ]
     },
     "metadata": {},
     "output_type": "display_data"
    }
   ],
   "source": [
    "# look at just A=144\n",
    "TKE_sampled = []\n",
    "for i in range(nhistories):\n",
    "    TKE_sampled.append(sampleTKE(144.,0))\n",
    "    \n",
    "plt.semilogy(TKE, TKEA(144., 0))\n",
    "TKE_bins = np.linspace(99.5, 299.5, 201)\n",
    "TKE_binned = np.histogram(TKE_sampled, bins = TKE_bins, normed=True)\n",
    "plt.semilogy(TKE,TKE_binned[0])\n",
    "plt.ylim(1e-7, 1e-1)"
   ]
  },
  {
   "cell_type": "code",
   "execution_count": 19,
   "metadata": {
    "collapsed": true
   },
   "outputs": [],
   "source": [
    "# now we move onto the Z|A distribution\n",
    "\n",
    "\n",
    "Ac = A_cn\n",
    "Zc = Z_cn\n",
    "Zt = Zc\n",
    "PE = 6.3\n",
    "dZ = 7\n",
    "\n",
    "delz = np.zeros(len(A))\n",
    "sigz = np.zeros(len(A))\n",
    "Fz = np.zeros(len(A))\n",
    "Fn = np.zeros(len(A))\n",
    "\n",
    "# compute wahl paramters\n",
    "sigz140 = [0.566, 0.0, 0.0064, 0.0109, 0.0]\n",
    "delz140 = [-0.487, 0.0, 0.0180, 0.0, -0.00203]\n",
    "Fz140   = [1.242, 0.0, -0.0183, -0.0152, 0.0]\n",
    "Fn140   = [1.076, 0.0, 0.0, 0.0, 0.0]\n",
    "sigzSL  = [-0.0038, 0.0, 0.0, 0.0, 0.0]\n",
    "delzSL  = [-0.0080, 0.0, 0.0, 0.0, 0.0]\n",
    "FzSL    = [0.0030, 0.0, 0.0, 0.0, 0.0]\n",
    "SL50    = [0.191, 0.0, -0.0076, 0.0, 0.0]\n",
    "sigz50  = [0.356, 0.060, 0.0, 0.0, 0.0]\n",
    "delzmax = [0.699, 0.0, 0.0, 0.0, 0.0]\n",
    "sigzSLW = [-.045, 0.0094, 0.0, 0.0, 0.0]\n",
    "delzSLW = [0.0, -0.0045, 0.0, 0.0, 0.0]\n",
    "FzSLW   = [0.159, -0.028, 0.0, 0.0, 0.0]\n",
    "FnSLW   = [0.039, 0.0, 0.0, 0.0, 0.0]\n",
    "\n",
    "Z0 = np.zeros(len(A))\n",
    "sZ0 = np.zeros(len(A))\n",
    "FZZ0 = np.zeros(len(A))\n",
    "FNZ0 = np.zeros(len(A))\n",
    "\n",
    "sigz140t = sigz140[0]+sigz140[1]*(Zt-92)+sigz140[2]*(Ac-236)+sigz140[3]*(PE-6.551)+sigz140[4]*(Ac-236)*(Ac-236)\n",
    "delz140t = delz140[0]+delz140[1]*(Zt-92)+delz140[2]*(Ac-236)+delz140[3]*(PE-6.551)+delz140[4]*(Ac-236)*(Ac-236)\n",
    "Fz140t   = Fz140[0]+Fz140[1]*(Zt-92)+Fz140[2]*(Ac-236)+Fz140[3]*(PE-6.551)+Fz140[4]*(Ac-236)*(Ac-236)\n",
    "Fn140t   = Fn140[0]+Fn140[1]*(Zt-92)+Fn140[2]*(Ac-236)+Fn140[3]*(PE-6.551)+Fn140[4]*(Ac-236)*(Ac-236)\n",
    "sigzSLt  = sigzSL[0]+sigzSL[1]*(Zt-92)+sigzSL[2]*(Ac-236)+sigzSL[3]*(PE-6.551)+sigzSL[4]*(Ac-236)*(Ac-236)\n",
    "delzSLt  = delzSL[0]+delzSL[1]*(Zt-92)+delzSL[2]*(Ac-236)+delzSL[3]*(PE-6.551)+delzSL[4]*(Ac-236)*(Ac-236)\n",
    "FzSLt    = FzSL[0]+FzSL[1]*(Zt-92)+FzSL[2]*(Ac-236)+FzSL[3]*(PE-6.551)+FzSL[4]*(Ac-236)*(Ac-236)\n",
    "SL50t    = SL50[0]+SL50[1]*(Zt-92)+SL50[2]*(Ac-236)+SL50[3]*(PE-6.551)+SL50[4]*(Ac-236)*(Ac-236)\n",
    "sigz50t  = sigz50[0]+sigz50[1]*(Zt-92)+sigz50[2]*(Ac-236)+sigz50[3]*(PE-6.551)+sigz50[4]*(Ac-236)*(Ac-236)\n",
    "delzmaxt = delzmax[0]+delzmax[1]*(Zt-92)+delzmax[2]*(Ac-236)+delzmax[3]*(PE-6.551)+delzmax[4]*(Ac-236)*(Ac-236)\n",
    "sigzSLWt = sigzSLW[0]+sigzSLW[1]*(Zt-92)+sigzSLW[2]*(Ac-236)+sigzSLW[3]*(PE-6.551)+sigzSLW[4]*(Ac-236)*(Ac-236)\n",
    "delzSLWt = delzSLW[0]+delzSLW[1]*(Zt-92)+delzSLW[2]*(Ac-236)+delzSLW[3]*(PE-6.551)+delzSLW[4]*(Ac-236)*(Ac-236)\n",
    "FzSLWt   = FzSLW[0]+FzSLW[1]*(Zt-92)+FzSLW[2]*(Ac-236)+FzSLW[3]*(PE-6.551)+FzSLW[4]*(Ac-236)*(Ac-236)\n",
    "FnSLWt   = FnSLW[0]+FnSLW[1]*(Zt-92)+FnSLW[2]*(Ac-236)+FnSLW[3]*(PE-6.551)+FnSLW[4]*(Ac-236)*(Ac-236)\n",
    "\n",
    "F1=np.floor((250.-Ac)/14.+0.5)\n",
    "F2=1.-F1\n",
    "AK1=50.0*(Ac)/Zt-delzmaxt/SL50t\n",
    "AK2=(50.0-delzmaxt)*(Ac)/Zt\n",
    "Apmax=F1*AK1+F2*AK2\n",
    "\n",
    "B1=70\n",
    "B2=int(np.floor(77+0.036*(Ac-236)+0.5))\n",
    "B4=int(np.floor((delzmaxt-delz140t+Apmax*SL50t+140*delzSLt)/(SL50t+delzSLt)+0.5))\n",
    "B3=int(Ac-B4)\n",
    "B5=int(Ac-B2)\n",
    "B6=int(Ac-B1)\n",
    "Bb=int(Apmax+0.5)\n",
    "Ba=int(Ac-Apmax+0.5)\n",
    "\n",
    "\n",
    "\n",
    "\n",
    "\n",
    "\n",
    "for i in range(len(A)): \n",
    "# Peak Regions\n",
    "    if ((i>=B2 and i<=B3) or (i>=B4 and i<=B5)):\n",
    "        if (i>Ac/2.0):\n",
    "            delz[i]=delz140t+delzSLt*(i-140.0)\n",
    "            sigz[i]=sigz140t+sigzSLt*(i-140.0)\n",
    "            Fz[i]=Fz140t+FzSLt*(i-140.0)\n",
    "            Fn[i]=Fn140t+FzSLt*(i-140.0)\n",
    "        elif (i<Ac/2.0):\n",
    "            delz[i]=-1*delz140t+delzSLt*(i-(Ac-140))\n",
    "            sigz[i]=sigz140t-sigzSLt*(i-(Ac-140))\n",
    "            Fz[i]=Fz140t-FzSLt*(i-(Ac-140))\n",
    "            Fn[i]=Fn140t-FzSLt*(i-(Ac-140))\n",
    "            \n",
    "# Fn(i)=Fn140t\n",
    "    \n",
    "\n",
    "\n",
    "for i in range(len(A)): \n",
    "# Near Symmetry Region\n",
    "    if (i>B3 and i<B4):\n",
    "        Fn[i]=1.\n",
    "        Fz[i]=1.\n",
    "        if (i>B3 and i<=Ba):\n",
    "            delz[i]=delz[B3]-SL50t*(i-B3)\n",
    "            sigz[i]=sigz50t\n",
    "        elif (i>Ba and i<Bb):\n",
    "            delz[i]=delz[Ba]+(i-Ba)*(2.0*delz[Ba])/(Ba-Bb)\n",
    "            sigz[i]=sigz140t-sigzSLt*(140-Bb)\n",
    "        elif (i>=Bb and i<B4):\n",
    "            delz[i]=delz[B4]+SL50t*(B4-i)\n",
    "            sigz[i]=sigz50t\n",
    "\n",
    "\n",
    "for i in range(len(A)): \n",
    "# Wing Regions\n",
    "    if ((i>B1 and i<B2) or (i>B5 and i<B6)):\n",
    "        if (i>Ac/2.0):\n",
    "            delz[i]=delz[B5]-delzSLWt*(i-B5)\n",
    "            sigz[i]=sigz[B5]+sigzSLWt*(i-B5)\n",
    "            Fz[i]=Fz140t+FzSLWt*(i-B5)\n",
    "            Fn[i]=Fn140t+FnSLWt*(i-B5)\n",
    "        elif (i<Ac/2.0):\n",
    "            delz[i]=delz[B2]+delzSLWt*(B2-i)\n",
    "            sigz[i]=sigz[B5]+sigzSLWt*(B2-i)\n",
    "            Fz[i]=Fz140t+FzSLWt*(B2-i)\n",
    "            Fn[i]=Fn140t+FnSLWt*(B2-i)\n",
    "\n",
    "\n",
    "# Far Wing Regions\n",
    "if (i<=B1 or i>=B6):\n",
    "    if (i>Ac/2.0):\n",
    "        delz[i]=delz[B5]\n",
    "        sigz[i]=sigz[B5]\n",
    "        Fz[i]=Fz140t\n",
    "        Fn[i]=Fn140t\n",
    "    elif (i<Ac/2.0):\n",
    "        delz[i]=delz[B2]\n",
    "        sigz[i]=sigz[B5]\n",
    "        Fz[i]=Fz140t\n",
    "        Fn[i]=Fn140t\n",
    "\n",
    "    \n",
    "# save Wahl parameters\n",
    "x = (Zt)/Ac\n",
    "for i in range(len(A)): \n",
    "    Z0[i]   = (x*i+delz[i])\n",
    "    sZ0[i]  = sigz[i]\n",
    "    FZZ0[i] = Fz[i]\n",
    "    FNZ0[i] = Fn[i]\n",
    "    #    FZZ0[i] = 1.0\n",
    "    #    FNZ0[i] = 1.0\n",
    "    #    cout << i << \" \" << Z0[i] << \" \" << sZ0[i] << \"\\n\"\n",
    "\n",
    "\n",
    "#-- Find true (Zmin, Zmax)\n",
    "Zmin = (int(np.floor(Z0[0]+0.5)-dZ))\n",
    "Zmax = (int(np.floor(Z0[0]+0.5)+dZ))\n"
   ]
  },
  {
   "cell_type": "code",
   "execution_count": 20,
   "metadata": {},
   "outputs": [
    {
     "data": {
      "text/latex": [
       "$$\\left ( 0, \\quad 2.5\\right )$$"
      ],
      "text/plain": [
       "(0, 2.5)"
      ]
     },
     "execution_count": 20,
     "metadata": {},
     "output_type": "execute_result"
    },
    {
     "data": {
      "image/png": "[encoded data removed]",
      "text/plain": [
       "<matplotlib.figure.Figure at 0x7f402b0e5c50>"
      ]
     },
     "metadata": {},
     "output_type": "display_data"
    }
   ],
   "source": [
    "fig = plt.figure(figsize=(10, 10))\n",
    "\n",
    "plt.subplot(2,2,1)\n",
    "plt.plot(A,sigz)\n",
    "plt.ylim([0,1.2])\n",
    "\n",
    "plt.subplot(2,2,2)\n",
    "plt.plot(A,delz)\n",
    "plt.ylim([-1.0,1.0])\n",
    "\n",
    "plt.subplot(2,2,3)\n",
    "plt.plot(A,Fz)\n",
    "plt.ylim([0,2.5])\n",
    "\n",
    "plt.subplot(2,2,4)\n",
    "plt.plot(A,Fn)\n",
    "plt.ylim([0,2.5])"
   ]
  },
  {
   "cell_type": "code",
   "execution_count": null,
   "metadata": {
    "collapsed": true
   },
   "outputs": [],
   "source": []
  },
  {
   "cell_type": "code",
   "execution_count": 21,
   "metadata": {},
   "outputs": [
    {
     "data": {
      "text/plain": [
       "[<matplotlib.lines.Line2D at 0x7f402cfc0e48>]"
      ]
     },
     "execution_count": 21,
     "metadata": {},
     "output_type": "execute_result"
    },
    {
     "data": {
      "image/png": "[encoded data removed]",
      "text/plain": [
       "<matplotlib.figure.Figure at 0x7f402b094048>"
      ]
     },
     "metadata": {},
     "output_type": "display_data"
    }
   ],
   "source": [
    "plt.plot(A,Z0)\n",
    "\n"
   ]
  },
  {
   "cell_type": "code",
   "execution_count": 22,
   "metadata": {
    "collapsed": true
   },
   "outputs": [],
   "source": [
    "# Now the buildYZA function\n",
    "\n",
    "NUMZ = 100\n",
    "NUMdZ = 21\n",
    "NUMA = len(A)\n",
    "\n",
    "YZA = np.zeros((NUMdZ, NUMA))\n",
    "YZA2 = np.zeros((NUMZ, NUMA))\n",
    "\n",
    "c=0.0\n",
    "oddeven=1.0\n",
    "  \n",
    "sigma = 0.4\n",
    "#  c=2.0*(sigma*sigma+1.0/12.0)\n",
    "  \n",
    "for i in range(len(A)):\n",
    "    c = sZ0[i]\n",
    "    Zp0 = Z0[i]\n",
    "    iZp0 = int( np.floor(Zp0+0.5))\n",
    "    \n",
    "    for j in range(2*dZ+1):\n",
    "      \n",
    "        # Zi = Zp0+j-dZ\n",
    "        iZ = iZp0+j-dZ\n",
    "        YZA[j][i] = 0.0\n",
    "        YZA2[iZ][i] = 0.0\n",
    "      \n",
    "        if (c>0.0):\n",
    "            #    Zi = (int(Zp0+0.5)+j)\n",
    "            if (iZ%2==0):\n",
    "                if (i%2==0):\n",
    "                    oddeven = FZZ0[i]*FNZ0[i] # even Z - even N\n",
    "                else:\n",
    "                    oddeven = FZZ0[i]/FNZ0[i] # even Z - odd N\n",
    "            else:\n",
    "                if ((i+1)%2==0):\n",
    "                    oddeven = FNZ0[i]/FZZ0[i] # odd Z - even N\n",
    "                else:\n",
    "                    oddeven = 1.0/(FZZ0[i]*FNZ0[i]) # odd Z - odd N\n",
    "        \n",
    "            V = (iZ-Zp0+0.5)/(np.sqrt(2.0)*c)\n",
    "            W = (iZ-Zp0-0.5)/(np.sqrt(2.0)*c)\n",
    "        \n",
    "            YZA[j][i] = oddeven * 0.5 * ( np.math.erf(V) - np.math.erf(W) ) # YA[i]\n",
    "            YZA2[iZ][i] = YZA[j][i]\n",
    "        \n",
    "        #   ExpYields%Yza(j,i) = oddeven * 1.0_rk/np.sqrt(c*pi)*exp(-1.0_rk* ( Zi-Zp )**2/c) * 1.0_rk !ExpYields%Ya(i)\n",
    "        \n",
    "        else:\n",
    "        \n",
    "            if (j==dZ):\n",
    "          #          YZA[j][i] = 1.0 # yields%Ya(i)\n",
    "          #        \tYZA2[iZ][i] = 1.0\n",
    "              YZA[j][i] = YA[i]\n",
    "              YZA2[iZ][i] = YA[i]\n",
    "\n",
    "    # end loop over Z\n",
    "    \n",
    "\n",
    "    x=0\n",
    "    for j in range(2*dZ +1):\n",
    "        x += YZA[j][i]\n",
    "    if (x!=0):\n",
    "        for j in range(2*dZ +1):\n",
    "            YZA[j][i] = YZA[j][i] * YA[i] / x\n",
    "    \n",
    "    y=0\n",
    "    for j in range(NUMZ):\n",
    "        y += YZA2[j][i]\n",
    "    if (y!=0):\n",
    "        for j in range(NUMZ):\n",
    "            YZA2[j][i] = YZA2[j][i] * YA[i] / y\n"
   ]
  },
  {
   "cell_type": "code",
   "execution_count": 23,
   "metadata": {},
   "outputs": [
    {
     "data": {
      "text/latex": [
       "$$\\left ( 20, \\quad 80\\right )$$"
      ],
      "text/plain": [
       "(20, 80)"
      ]
     },
     "execution_count": 23,
     "metadata": {},
     "output_type": "execute_result"
    },
    {
     "data": {
      "text/plain": [
       "<matplotlib.figure.Figure at 0x7f402cfc7f60>"
      ]
     },
     "metadata": {},
     "output_type": "display_data"
    },
    {
     "data": {
      "image/png": "[encoded data removed]",
      "text/plain": [
       "<matplotlib.figure.Figure at 0x7f402cf69898>"
      ]
     },
     "metadata": {},
     "output_type": "display_data"
    }
   ],
   "source": [
    "\n",
    "fig = plt.figure(figsize=(10, 10))\n",
    "\n",
    "fig, axes = pl.subplots(1, 1, figsize=(15, 10))\n",
    "c1 = plt.imshow(YZA2, extent=[0,200, 0,99], origin=\"lower\")\n",
    "plt.xlabel('A')\n",
    "plt.ylabel('TKE')\n",
    "plt.colorbar(fraction=0.03, pad=0.04)\n",
    "plt.xlim(80,170)\n",
    "plt.ylim(20,80)\n",
    "    "
   ]
  },
  {
   "cell_type": "code",
   "execution_count": 29,
   "metadata": {},
   "outputs": [
    {
     "name": "stdout",
     "output_type": "stream",
     "text": [
      "48.9999909821\n",
      "1.0\n",
      "48.9999909821\n"
     ]
    },
    {
     "data": {
      "text/latex": [
       "$$\\left ( 1e-06, \\quad 0.1\\right )$$"
      ],
      "text/plain": [
       "(1e-06, 0.1)"
      ]
     },
     "execution_count": 29,
     "metadata": {},
     "output_type": "execute_result"
    },
    {
     "data": {
      "image/png": "[encoded data removed]",
      "text/plain": [
       "<matplotlib.figure.Figure at 0x7f402b021e80>"
      ]
     },
     "metadata": {},
     "output_type": "display_data"
    }
   ],
   "source": [
    "# make the Y(Z)\n",
    "YZ = np.zeros(NUMZ)\n",
    "Z = np.linspace(0,99., NUMZ)\n",
    "YieldAZ = np.zeros(YZA2.shape)\n",
    "\n",
    "for i in range(len(A)):\n",
    "    for j in range(len(Z)):\n",
    "        YieldAZ[j, i] = 2 * YZA2[j,i]\n",
    "    \n",
    "for j in range(len(Z)):\n",
    "    YZ[j] = sum(YieldAZ[j,:])\n",
    "    \n",
    "# renorm YZ\n",
    "total = sum(YZ)\n",
    "YZ = np.asarray([float(i)/total for i in YZ])\n",
    "        \n",
    "plt.plot(Z,YZ)\n",
    "plt.xlim([20, 62])\n",
    "print(sum(np.multiply(Z,YZ)))\n",
    "print(sum(YZ))\n",
    "\n",
    "\n",
    "\n",
    "print(sum(np.multiply(Z,YZ)) /sum(YZ))\n",
    "\n",
    "plotExperimentalData ('YZ',format='ko') \n",
    "plt.ylim([1e-6, 1e-1])"
   ]
  },
  {
   "cell_type": "code",
   "execution_count": 82,
   "metadata": {},
   "outputs": [
    {
     "data": {
      "text/latex": [
       "$$\\left ( 1e-07, \\quad 0.1\\right )$$"
      ],
      "text/plain": [
       "(1e-07, 0.1)"
      ]
     },
     "execution_count": 82,
     "metadata": {},
     "output_type": "execute_result"
    },
    {
     "data": {
      "image/png": "[encoded data removed]",
      "text/plain": [
       "<matplotlib.figure.Figure at 0x7f402ae17b70>"
      ]
     },
     "metadata": {},
     "output_type": "display_data"
    }
   ],
   "source": [
    "# how the eff do we sample this now?\n",
    "\n",
    "def sampleYZA( A):\n",
    "    \n",
    "    \n",
    "    \n",
    "    r5 = random.random()\n",
    "\n",
    "    i_A = A - Amin\n",
    "    #normalize the column vector to =1\n",
    "    YZA_tot  = sum(YZA2[:, i_A])\n",
    "    YZA_temp = np.asarray([float(i)/YZA_tot for i in YZA2[:,i_A]])\n",
    "    \n",
    "    # sample probability mass dist\n",
    "    Ztot = 0.\n",
    "    \n",
    "    for i_Z in range(NUMZ):\n",
    "        Ztot += YZA_temp[i_Z]\n",
    "        if (r5 <= Ztot):\n",
    "            return i_Z\n",
    "\n",
    "Z_sampled = []\n",
    "# quick demonstration\n",
    "for i in range(nhistories):\n",
    "    Z_sampled.append(sampleYZA(139))\n",
    "\n",
    "total  = sum(YZA2[:, 139])\n",
    "Z_compare = np.asarray([float(i)/total for i in YZA2[:,139]])\n",
    "\n",
    "plt.semilogy(Z, Z_compare)\n",
    "Z_bins = np.linspace(-0.5, float(NUMZ) - 0.5, 101)\n",
    "Z_binned = np.histogram(Z_sampled, bins = Z_bins, normed=True)\n",
    "plt.semilogy(Z,Z_binned[0])\n",
    "plt.ylim(1e-7, 1e-1)\n",
    "\n"
   ]
  },
  {
   "cell_type": "code",
   "execution_count": 83,
   "metadata": {},
   "outputs": [
    {
     "name": "stdout",
     "output_type": "stream",
     "text": [
      "53.8978\n"
     ]
    }
   ],
   "source": [
    "print(mean(Z_sampled))"
   ]
  },
  {
   "cell_type": "code",
   "execution_count": 70,
   "metadata": {},
   "outputs": [
    {
     "name": "stdout",
     "output_type": "stream",
     "text": [
      "0.6\n",
      "0.226590891694\n",
      "0.624444444444\n",
      "0.20214644725\n",
      "0.648888888889\n",
      "0.177702002805\n",
      "0.673333333333\n",
      "0.153257558361\n",
      "0.697777777778\n",
      "0.128813113916\n",
      "0.722222222222\n",
      "0.104368669472\n",
      "0.746666666667\n",
      "0.0799242250274\n",
      "0.771111111111\n",
      "0.0554797805829\n",
      "0.795555555556\n",
      "0.0310353361385\n",
      "0.82\n",
      "0.00659089169404\n"
     ]
    }
   ],
   "source": [
    "w0 = np.linspace(0.6, 0.82, 10)\n",
    "\n",
    "for i in range(len(w0)):\n",
    "    print(w0[i])\n",
    "    print(1. - w0[i] - w[1])"
   ]
  },
  {
   "cell_type": "code",
   "execution_count": 76,
   "metadata": {
    "collapsed": true
   },
   "outputs": [],
   "source": [
    "Abar[2] = 126."
   ]
  },
  {
   "cell_type": "code",
   "execution_count": 81,
   "metadata": {
    "collapsed": true
   },
   "outputs": [],
   "source": [
    "DATADIR = '/home/austinlc/Documents/FromPTalou/CGMF-Version-1.0.7.2/data/'\n",
    "w0 = np.linspace(0.6, 0.82, 10)\n",
    "for i in range(0,10):\n",
    "\n",
    "    with open('BrosaYields'+str(i+1)+'.dat','w') as f:\n",
    "        f.write('// Cf252 Brosa Mode data:\\n')\n",
    "        f.write('98252\\n')\n",
    "        f.write('w '+str(w0[i]) + ' ' + str(w[1]) + ' ' + str(1. - w0[i] - w[1]) + '\\n')\n",
    "        f.write('dmin '+str(dmin[0]) + ' ' + str(dmin[1]) + ' ' + str(dmin[2]) + '\\n')\n",
    "        f.write('dmax '+str(dmax[0]) + ' ' + str(dmax[1]) + ' ' + str(dmax[2]) + '\\n')\n",
    "        f.write('ddec '+str(ddec[0]) + ' ' + str(ddec[1]) + ' ' + str(ddec[2]) + '\\n')\n",
    "        f.write('Abar '+str(Abar[0]) + ' ' + str(Abar[1]) + ' ' + str(Abar[2]) + '\\n')\n",
    "        f.write('sigA '+str(sigA[0]) + ' ' + str(sigA[1]) + ' ' + str(sigA[2]) + '\\n')\n",
    "        \n",
    "w1 = np.linspace(0.15, 0.25, 10)\n",
    "for i in range(0,10):\n",
    "\n",
    "    with open('BrosaYields'+str(i+11)+'.dat','w') as f:\n",
    "        f.write('// Cf252 Brosa Mode data:\\n')\n",
    "        f.write('98252\\n')\n",
    "        f.write('w '+str(1.-w1[i]-w[2]) + ' ' + str(w1[i]) + ' ' + str(w[2]) + '\\n')\n",
    "        f.write('dmin '+str(dmin[0]) + ' ' + str(dmin[1]) + ' ' + str(dmin[2]) + '\\n')\n",
    "        f.write('dmax '+str(dmax[0]) + ' ' + str(dmax[1]) + ' ' + str(dmax[2]) + '\\n')\n",
    "        f.write('ddec '+str(ddec[0]) + ' ' + str(ddec[1]) + ' ' + str(ddec[2]) + '\\n')\n",
    "        f.write('Abar '+str(Abar[0]) + ' ' + str(Abar[1]) + ' ' + str(Abar[2]) + '\\n')\n",
    "        f.write('sigA '+str(sigA[0]) + ' ' + str(sigA[1]) + ' ' + str(sigA[2]) + '\\n')\n",
    "        \n",
    "w2 = np.linspace(0.001, 0.07, 10)\n",
    "for i in range(0,10):\n",
    "\n",
    "    with open('BrosaYields'+str(i+21)+'.dat','w') as f:\n",
    "        f.write('// Cf252 Brosa Mode data:\\n')\n",
    "        f.write('98252\\n')\n",
    "        f.write('w '+str(w[0]) + ' ' + str(1.0 - w2[i] - w[0]) + ' ' + str(w2[i]) + '\\n')\n",
    "        f.write('dmin '+str(dmin[0]) + ' ' + str(dmin[1]) + ' ' + str(dmin[2]) + '\\n')\n",
    "        f.write('dmax '+str(dmax[0]) + ' ' + str(dmax[1]) + ' ' + str(dmax[2]) + '\\n')\n",
    "        f.write('ddec '+str(ddec[0]) + ' ' + str(ddec[1]) + ' ' + str(ddec[2]) + '\\n')\n",
    "        f.write('Abar '+str(Abar[0]) + ' ' + str(Abar[1]) + ' ' + str(Abar[2]) + '\\n')\n",
    "        f.write('sigA '+str(sigA[0]) + ' ' + str(sigA[1]) + ' ' + str(sigA[2]) + '\\n')\n",
    "        \n",
    "dmin0 = np.linspace(10.,18.,10)\n",
    "for i in range(0,10):\n",
    "\n",
    "    with open('BrosaYields'+str(i+31)+'.dat','w') as f:\n",
    "        f.write('// Cf252 Brosa Mode data:\\n')\n",
    "        f.write('98252\\n')\n",
    "        f.write('w '+str(w[0]) + ' ' + str(w[1]) + ' ' + str(w[2]) + '\\n')\n",
    "        f.write('dmin '+str(dmin0[i]) + ' ' + str(dmin[1]) + ' ' + str(dmin[2]) + '\\n')\n",
    "        f.write('dmax '+str(dmax[0]) + ' ' + str(dmax[1]) + ' ' + str(dmax[2]) + '\\n')\n",
    "        f.write('ddec '+str(ddec[0]) + ' ' + str(ddec[1]) + ' ' + str(ddec[2]) + '\\n')\n",
    "        f.write('Abar '+str(Abar[0]) + ' ' + str(Abar[1]) + ' ' + str(Abar[2]) + '\\n')\n",
    "        f.write('sigA '+str(sigA[0]) + ' ' + str(sigA[1]) + ' ' + str(sigA[2]) + '\\n')\n",
    "\n",
    "        \n",
    "dmin1 = np.linspace(6.,16.,10)\n",
    "for i in range(0,10):\n",
    "\n",
    "    with open('BrosaYields'+str(i+41)+'.dat','w') as f:\n",
    "        f.write('// Cf252 Brosa Mode data:\\n')\n",
    "        f.write('98252\\n')\n",
    "        f.write('w '+str(w[0]) + ' ' + str(w[1]) + ' ' + str(w[2]) + '\\n')\n",
    "        f.write('dmin '+str(dmin[0]) + ' ' + str(dmin1[i]) + ' ' + str(dmin[2]) + '\\n')\n",
    "        f.write('dmax '+str(dmax[0]) + ' ' + str(dmax[1]) + ' ' + str(dmax[2]) + '\\n')\n",
    "        f.write('ddec '+str(ddec[0]) + ' ' + str(ddec[1]) + ' ' + str(ddec[2]) + '\\n')\n",
    "        f.write('Abar '+str(Abar[0]) + ' ' + str(Abar[1]) + ' ' + str(Abar[2]) + '\\n')\n",
    "        f.write('sigA '+str(sigA[0]) + ' ' + str(sigA[1]) + ' ' + str(sigA[2]) + '\\n')\n",
    "        \n",
    "dmin2 = np.linspace(10.,20.,10)\n",
    "for i in range(0,10):\n",
    "\n",
    "    with open('BrosaYields'+str(i+51)+'.dat','w') as f:\n",
    "        f.write('// Cf252 Brosa Mode data:\\n')\n",
    "        f.write('98252\\n')\n",
    "        f.write('w '+str(w[0]) + ' ' + str(w[1]) + ' ' + str(w[2]) + '\\n')\n",
    "        f.write('dmin '+str(dmin[0]) + ' ' + str(dmin[1]) + ' ' + str(dmin2[i]) + '\\n')\n",
    "        f.write('dmax '+str(dmax[0]) + ' ' + str(dmax[1]) + ' ' + str(dmax[2]) + '\\n')\n",
    "        f.write('ddec '+str(ddec[0]) + ' ' + str(ddec[1]) + ' ' + str(ddec[2]) + '\\n')\n",
    "        f.write('Abar '+str(Abar[0]) + ' ' + str(Abar[1]) + ' ' + str(Abar[2]) + '\\n')\n",
    "        f.write('sigA '+str(sigA[0]) + ' ' + str(sigA[1]) + ' ' + str(sigA[2]) + '\\n')\n",
    "        \n",
    "dmax0 = np.linspace(15.,24.,10)\n",
    "for i in range(0,10):\n",
    "\n",
    "    with open('BrosaYields'+str(i+61)+'.dat','w') as f:\n",
    "        f.write('// Cf252 Brosa Mode data:\\n')\n",
    "        f.write('98252\\n')\n",
    "        f.write('w '+str(w[0]) + ' ' + str(w[1]) + ' ' + str(w[2]) + '\\n')\n",
    "        f.write('dmin '+str(dmin[0]) + ' ' + str(dmin[1]) + ' ' + str(dmin[2]) + '\\n')\n",
    "        f.write('dmax '+str(dmax0[i]) + ' ' + str(dmax[1]) + ' ' + str(dmax[2]) + '\\n')\n",
    "        f.write('ddec '+str(ddec[0]) + ' ' + str(ddec[1]) + ' ' + str(ddec[2]) + '\\n')\n",
    "        f.write('Abar '+str(Abar[0]) + ' ' + str(Abar[1]) + ' ' + str(Abar[2]) + '\\n')\n",
    "        f.write('sigA '+str(sigA[0]) + ' ' + str(sigA[1]) + ' ' + str(sigA[2]) + '\\n')\n",
    "        \n",
    "dmax1 = np.linspace(12.,21.,10)\n",
    "for i in range(0,10):\n",
    "\n",
    "    with open('BrosaYields'+str(i+71)+'.dat','w') as f:\n",
    "        f.write('// Cf252 Brosa Mode data:\\n')\n",
    "        f.write('98252\\n')\n",
    "        f.write('w '+str(w[0]) + ' ' + str(w[1]) + ' ' + str(w[2]) + '\\n')\n",
    "        f.write('dmin '+str(dmin[0]) + ' ' + str(dmin[1]) + ' ' + str(dmin[2]) + '\\n')\n",
    "        f.write('dmax '+str(dmax[0]) + ' ' + str(dmax1[i]) + ' ' + str(dmax[2]) + '\\n')\n",
    "        f.write('ddec '+str(ddec[0]) + ' ' + str(ddec[1]) + ' ' + str(ddec[2]) + '\\n')\n",
    "        f.write('Abar '+str(Abar[0]) + ' ' + str(Abar[1]) + ' ' + str(Abar[2]) + '\\n')\n",
    "        f.write('sigA '+str(sigA[0]) + ' ' + str(sigA[1]) + ' ' + str(sigA[2]) + '\\n')\n",
    "        \n",
    "dmax2 = np.linspace(17.,26.,10)\n",
    "for i in range(0,10):\n",
    "\n",
    "    with open('BrosaYields'+str(i+81)+'.dat','w') as f:\n",
    "        f.write('// Cf252 Brosa Mode data:\\n')\n",
    "        f.write('98252\\n')\n",
    "        f.write('w '+str(w[0]) + ' ' + str(w[1]) + ' ' + str(w[2]) + '\\n')\n",
    "        f.write('dmin '+str(dmin[0]) + ' ' + str(dmin[1]) + ' ' + str(dmin[2]) + '\\n')\n",
    "        f.write('dmax '+str(dmax[0]) + ' ' + str(dmax[1]) + ' ' + str(dmax2[i]) + '\\n')\n",
    "        f.write('ddec '+str(ddec[0]) + ' ' + str(ddec[1]) + ' ' + str(ddec[2]) + '\\n')\n",
    "        f.write('Abar '+str(Abar[0]) + ' ' + str(Abar[1]) + ' ' + str(Abar[2]) + '\\n')\n",
    "        f.write('sigA '+str(sigA[0]) + ' ' + str(sigA[1]) + ' ' + str(sigA[2]) + '\\n')\n",
    "        \n",
    "ddec0 = np.linspace(0.2,0.8,10)\n",
    "for i in range(0,10):\n",
    "\n",
    "    with open('BrosaYields'+str(i+91)+'.dat','w') as f:\n",
    "        f.write('// Cf252 Brosa Mode data:\\n')\n",
    "        f.write('98252\\n')\n",
    "        f.write('w '+str(w[0]) + ' ' + str(w[1]) + ' ' + str(w[2]) + '\\n')\n",
    "        f.write('dmin '+str(dmin[0]) + ' ' + str(dmin[1]) + ' ' + str(dmin[2]) + '\\n')\n",
    "        f.write('dmax '+str(dmax[0]) + ' ' + str(dmax[1]) + ' ' + str(dmax[2]) + '\\n')\n",
    "        f.write('ddec '+str(ddec0[i]) + ' ' + str(ddec[1]) + ' ' + str(ddec[2]) + '\\n')\n",
    "        f.write('Abar '+str(Abar[0]) + ' ' + str(Abar[1]) + ' ' + str(Abar[2]) + '\\n')\n",
    "        f.write('sigA '+str(sigA[0]) + ' ' + str(sigA[1]) + ' ' + str(sigA[2]) + '\\n')\n",
    "        \n",
    "ddec1 = np.linspace(0.05,0.3,10)\n",
    "for i in range(0,10):\n",
    "\n",
    "    with open('BrosaYields'+str(i+101)+'.dat','w') as f:\n",
    "        f.write('// Cf252 Brosa Mode data:\\n')\n",
    "        f.write('98252\\n')\n",
    "        f.write('w '+str(w[0]) + ' ' + str(w[1]) + ' ' + str(w[2]) + '\\n')\n",
    "        f.write('dmin '+str(dmin[0]) + ' ' + str(dmin[1]) + ' ' + str(dmin[2]) + '\\n')\n",
    "        f.write('dmax '+str(dmax[0]) + ' ' + str(dmax[1]) + ' ' + str(dmax[2]) + '\\n')\n",
    "        f.write('ddec '+str(ddec[0]) + ' ' + str(ddec1[i]) + ' ' + str(ddec[2]) + '\\n')\n",
    "        f.write('Abar '+str(Abar[0]) + ' ' + str(Abar[1]) + ' ' + str(Abar[2]) + '\\n')\n",
    "        f.write('sigA '+str(sigA[0]) + ' ' + str(sigA[1]) + ' ' + str(sigA[2]) + '\\n')\n",
    "        \n",
    "ddec2 = np.linspace(0.05,0.4,10)\n",
    "for i in range(0,10):\n",
    "\n",
    "    with open('BrosaYields'+str(i+111)+'.dat','w') as f:\n",
    "        f.write('// Cf252 Brosa Mode data:\\n')\n",
    "        f.write('98252\\n')\n",
    "        f.write('w '+str(w[0]) + ' ' + str(w[1]) + ' ' + str(w[2]) + '\\n')\n",
    "        f.write('dmin '+str(dmin[0]) + ' ' + str(dmin[1]) + ' ' + str(dmin[2]) + '\\n')\n",
    "        f.write('dmax '+str(dmax[0]) + ' ' + str(dmax[1]) + ' ' + str(dmax[2]) + '\\n')\n",
    "        f.write('ddec '+str(ddec[0]) + ' ' + str(ddec[1]) + ' ' + str(ddec2[i]) + '\\n')\n",
    "        f.write('Abar '+str(Abar[0]) + ' ' + str(Abar[1]) + ' ' + str(Abar[2]) + '\\n')\n",
    "        f.write('sigA '+str(sigA[0]) + ' ' + str(sigA[1]) + ' ' + str(sigA[2]) + '\\n')\n",
    "        \n",
    "Abar0 = np.linspace(139.,149.,10)\n",
    "for i in range(0,10):\n",
    "\n",
    "    with open('BrosaYields'+str(i+121)+'.dat','w') as f:\n",
    "        f.write('// Cf252 Brosa Mode data:\\n')\n",
    "        f.write('98252\\n')\n",
    "        f.write('w '+str(w[0]) + ' ' + str(w[1]) + ' ' + str(w[2]) + '\\n')\n",
    "        f.write('dmin '+str(dmin[0]) + ' ' + str(dmin[1]) + ' ' + str(dmin[2]) + '\\n')\n",
    "        f.write('dmax '+str(dmax[0]) + ' ' + str(dmax[1]) + ' ' + str(dmax[2]) + '\\n')\n",
    "        f.write('ddec '+str(ddec[0]) + ' ' + str(ddec[1]) + ' ' + str(ddec[2]) + '\\n')\n",
    "        f.write('Abar '+str(Abar0[i]) + ' ' + str(Abar[1]) + ' ' + str(Abar[2]) + '\\n')\n",
    "        f.write('sigA '+str(sigA[0]) + ' ' + str(sigA[1]) + ' ' + str(sigA[2]) + '\\n')\n",
    "        \n",
    "Abar1 = np.linspace(128.,140.,10)\n",
    "for i in range(0,10):\n",
    "\n",
    "    with open('BrosaYields'+str(i+131)+'.dat','w') as f:\n",
    "        f.write('// Cf252 Brosa Mode data:\\n')\n",
    "        f.write('98252\\n')\n",
    "        f.write('w '+str(w[0]) + ' ' + str(w[1]) + ' ' + str(w[2]) + '\\n')\n",
    "        f.write('dmin '+str(dmin[0]) + ' ' + str(dmin[1]) + ' ' + str(dmin[2]) + '\\n')\n",
    "        f.write('dmax '+str(dmax[0]) + ' ' + str(dmax[1]) + ' ' + str(dmax[2]) + '\\n')\n",
    "        f.write('ddec '+str(ddec[0]) + ' ' + str(ddec[1]) + ' ' + str(ddec[2]) + '\\n')\n",
    "        f.write('Abar '+str(Abar[0]) + ' ' + str(Abar1[i]) + ' ' + str(Abar[2]) + '\\n')\n",
    "        f.write('sigA '+str(sigA[0]) + ' ' + str(sigA[1]) + ' ' + str(sigA[2]) + '\\n')\n",
    "        \n",
    "sigA0 = np.linspace(4.0,8.0,10)\n",
    "for i in range(0,10):\n",
    "\n",
    "    with open('BrosaYields'+str(i+141)+'.dat','w') as f:\n",
    "        f.write('// Cf252 Brosa Mode data:\\n')\n",
    "        f.write('98252\\n')\n",
    "        f.write('w '+str(w[0]) + ' ' + str(w[1]) + ' ' + str(w[2]) + '\\n')\n",
    "        f.write('dmin '+str(dmin[0]) + ' ' + str(dmin[1]) + ' ' + str(dmin[2]) + '\\n')\n",
    "        f.write('dmax '+str(dmax[0]) + ' ' + str(dmax[1]) + ' ' + str(dmax[2]) + '\\n')\n",
    "        f.write('ddec '+str(ddec[0]) + ' ' + str(ddec[1]) + ' ' + str(ddec[2]) + '\\n')\n",
    "        f.write('Abar '+str(Abar[0]) + ' ' + str(Abar[1]) + ' ' + str(Abar[2]) + '\\n')\n",
    "        f.write('sigA '+str(sigA0[i]) + ' ' + str(sigA[1]) + ' ' + str(sigA[2]) + '\\n')\n",
    "        \n",
    "sigA1 = np.linspace(2.5,5.5,10)\n",
    "for i in range(0,10):\n",
    "\n",
    "    with open('BrosaYields'+str(i+151)+'.dat','w') as f:\n",
    "        f.write('// Cf252 Brosa Mode data:\\n')\n",
    "        f.write('98252\\n')\n",
    "        f.write('w '+str(w[0]) + ' ' + str(w[1]) + ' ' + str(w[2]) + '\\n')\n",
    "        f.write('dmin '+str(dmin[0]) + ' ' + str(dmin[1]) + ' ' + str(dmin[2]) + '\\n')\n",
    "        f.write('dmax '+str(dmax[0]) + ' ' + str(dmax[1]) + ' ' + str(dmax[2]) + '\\n')\n",
    "        f.write('ddec '+str(ddec[0]) + ' ' + str(ddec[1]) + ' ' + str(ddec[2]) + '\\n')\n",
    "        f.write('Abar '+str(Abar[0]) + ' ' + str(Abar[1]) + ' ' + str(Abar[2]) + '\\n')\n",
    "        f.write('sigA '+str(sigA[0]) + ' ' + str(sigA1[i]) + ' ' + str(sigA[2]) + '\\n')\n",
    "        \n",
    "sigA2 = np.linspace(12.0,30.0,10)\n",
    "for i in range(0,10):\n",
    "\n",
    "    with open('BrosaYields'+str(i+161)+'.dat','w') as f:\n",
    "        f.write('// Cf252 Brosa Mode data:\\n')\n",
    "        f.write('98252\\n')\n",
    "        f.write('w '+str(w[0]) + ' ' + str(w[1]) + ' ' + str(w[2]) + '\\n')\n",
    "        f.write('dmin '+str(dmin[0]) + ' ' + str(dmin[1]) + ' ' + str(dmin[2]) + '\\n')\n",
    "        f.write('dmax '+str(dmax[0]) + ' ' + str(dmax[1]) + ' ' + str(dmax[2]) + '\\n')\n",
    "        f.write('ddec '+str(ddec[0]) + ' ' + str(ddec[1]) + ' ' + str(ddec[2]) + '\\n')\n",
    "        f.write('Abar '+str(Abar[0]) + ' ' + str(Abar[1]) + ' ' + str(Abar[2]) + '\\n')\n",
    "        f.write('sigA '+str(sigA[0]) + ' ' + str(sigA[1]) + ' ' + str(sigA2[i]) + '\\n')"
   ]
  },
  {
   "cell_type": "code",
   "execution_count": null,
   "metadata": {
    "collapsed": true
   },
   "outputs": [],
   "source": []
  }
 ],
 "metadata": {
  "kernelspec": {
   "display_name": "Python 3",
   "language": "python",
   "name": "python3"
  },
  "language_info": {
   "codemirror_mode": {
    "name": "ipython",
    "version": 3
   },
   "file_extension": ".py",
   "mimetype": "text/x-python",
   "name": "python",
   "nbconvert_exporter": "python",
   "pygments_lexer": "ipython3",
   "version": "3.6.1"
  }
 },
 "nbformat": 4,
 "nbformat_minor": 2
}
